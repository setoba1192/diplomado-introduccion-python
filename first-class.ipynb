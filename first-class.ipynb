{
  "nbformat": 4,
  "nbformat_minor": 0,
  "metadata": {
    "colab": {
      "provenance": [],
      "collapsed_sections": [],
      "authorship_tag": "ABX9TyO4fh71QbERauBh8BQbpPZA",
      "include_colab_link": true
    },
    "kernelspec": {
      "name": "python3",
      "display_name": "Python 3"
    },
    "language_info": {
      "name": "python"
    }
  },
  "cells": [
    {
      "cell_type": "markdown",
      "metadata": {
        "id": "view-in-github",
        "colab_type": "text"
      },
      "source": [
        "<a href=\"https://colab.research.google.com/github/setoba1192/diplomado-introduccion-python/blob/main/first-class.ipynb\" target=\"_parent\"><img src=\"https://colab.research.google.com/assets/colab-badge.svg\" alt=\"Open In Colab\"/></a>"
      ]
    },
    {
      "cell_type": "code",
      "execution_count": null,
      "metadata": {
        "colab": {
          "base_uri": "https://localhost:8080/"
        },
        "id": "cNDF2nVpU7b2",
        "outputId": "837c61ae-51cb-47a4-f4af-c89efa30087e"
      },
      "outputs": [
        {
          "output_type": "stream",
          "name": "stdout",
          "text": [
            "el resultado de la operación es:  0.3678794423162496 variable2 es 1\n"
          ]
        }
      ],
      "source": [
        "#Clase 12-11-2022\n",
        "\n",
        "clase = (2.71828182**(1+2*(5-6)))\n",
        "var2 = 1\n",
        "print(\"el resultado de la operación es: \",clase, \"variable2 es\", var2)"
      ]
    },
    {
      "cell_type": "code",
      "source": [
        "div1 = 7/5\n",
        "div2 = 7//5\n",
        "oper = div1-div2\n",
        "print(div1,\"\\n\",div2,\"\\n\", oper)"
      ],
      "metadata": {
        "colab": {
          "base_uri": "https://localhost:8080/"
        },
        "id": "F8Is3Jj6ZZ8l",
        "outputId": "3bc6a47e-2e12-4b0e-ebbc-70d9183242e2"
      },
      "execution_count": null,
      "outputs": [
        {
          "output_type": "stream",
          "name": "stdout",
          "text": [
            "1.4 \n",
            " 1 \n",
            " 0.3999999999999999\n"
          ]
        }
      ]
    },
    {
      "cell_type": "code",
      "source": [
        "print(\"Hola mundo\",\"estoy aprendiendo python\")"
      ],
      "metadata": {
        "colab": {
          "base_uri": "https://localhost:8080/"
        },
        "id": "zZxHptKXgF3m",
        "outputId": "8c265ea7-2b81-4b53-cc05-bc46406b68ed"
      },
      "execution_count": null,
      "outputs": [
        {
          "output_type": "stream",
          "name": "stdout",
          "text": [
            "Hola mundo estoy aprendiendo python\n"
          ]
        }
      ]
    },
    {
      "cell_type": "code",
      "source": [
        "var = True\n",
        "\n",
        "print(not var)"
      ],
      "metadata": {
        "colab": {
          "base_uri": "https://localhost:8080/"
        },
        "id": "M7HXfuXgh7ur",
        "outputId": "da7e5199-dc5a-4e3d-852f-c4083bec4367"
      },
      "execution_count": 17,
      "outputs": [
        {
          "output_type": "stream",
          "name": "stdout",
          "text": [
            "False\n"
          ]
        }
      ]
    },
    {
      "cell_type": "code",
      "source": [
        "nota1 = float(input(\"Por favor ingresa la primera nota: \"))\n",
        "nota2 = float(input(\"Por favor ingresa la segunda nota: \"))\n",
        "nota3 = float(input(\"Por favor ingresa la tercera nota: \"))\n",
        "prom = ((nota1+nota2+nota3)/3)\n",
        "print(\"el valor del promedio es: \", round(prom,2))"
      ],
      "metadata": {
        "colab": {
          "base_uri": "https://localhost:8080/"
        },
        "id": "q03y8ePPjMwi",
        "outputId": "1e16b8c2-1d27-4ac0-aa5c-436850e63e8a"
      },
      "execution_count": 20,
      "outputs": [
        {
          "output_type": "stream",
          "name": "stdout",
          "text": [
            "Por favor ingresa la primera nota: 4\n",
            "Por favor ingresa la segunda nota: 5\n",
            "Por favor ingresa la tercera nota: 1\n",
            "el valor del promedio es:  3.33\n"
          ]
        }
      ]
    },
    {
      "cell_type": "code",
      "source": [
        "a = 1+3\n",
        "print(a)\n",
        "a = 3+5\n",
        "print(a)\n",
        "a = 45-56\n",
        "print(a)"
      ],
      "metadata": {
        "colab": {
          "base_uri": "https://localhost:8080/"
        },
        "id": "gmypOhXInnPV",
        "outputId": "a98fae40-ca52-445e-8e62-80dc80104d25"
      },
      "execution_count": 21,
      "outputs": [
        {
          "output_type": "stream",
          "name": "stdout",
          "text": [
            "4\n",
            "8\n",
            "-11\n"
          ]
        }
      ]
    },
    {
      "cell_type": "code",
      "source": [
        "total = float(input(\"Por favor ingresa el valor de la compra del cliente: \"))\n",
        "descuento = total * 0.15\n",
        "final = total -descuento\n",
        "print(\"el valor a pagar es: \", final)"
      ],
      "metadata": {
        "colab": {
          "base_uri": "https://localhost:8080/"
        },
        "id": "0oJpFybqqlth",
        "outputId": "d6e55892-a38c-45f0-fae1-909ff7793fca"
      },
      "execution_count": 22,
      "outputs": [
        {
          "output_type": "stream",
          "name": "stdout",
          "text": [
            "Por favor ingresa el valor de la compra del cliente: 500\n",
            "el valor a pagar es:  425.0\n"
          ]
        }
      ]
    },
    {
      "cell_type": "code",
      "source": [
        "farenheith = float(input(\"Ingresar el valor de grados en Farenheith: \"))\n",
        "\n",
        "celsius = round(((farenheith - 32) * 5/9),2)\n",
        "\n",
        "print(\"Los grados Farenheith\", farenheith, \"convertido a Celsius es:\", celsius)"
      ],
      "metadata": {
        "colab": {
          "base_uri": "https://localhost:8080/"
        },
        "id": "xTc5zAkcsb3h",
        "outputId": "0b1ed08a-3302-44be-873f-7f35925ba102"
      },
      "execution_count": 30,
      "outputs": [
        {
          "output_type": "stream",
          "name": "stdout",
          "text": [
            "Ingresar el valor de grados en Farenheith: 5\n",
            "Los grados Farenheith 5.0 convertido a Celsius es: -15.0\n"
          ]
        }
      ]
    },
    {
      "cell_type": "code",
      "source": [
        "c = float(input(\"Ingresa la temperatura en Celcius: \"))\n",
        "f = (c * (9/5)) + 32\n",
        "\n",
        "print(\"El valor de Celcius\", c, \"convertido a Farenheith es de:\",f)"
      ],
      "metadata": {
        "colab": {
          "base_uri": "https://localhost:8080/"
        },
        "id": "cYOuFTfhyfSc",
        "outputId": "0768d513-3e92-4acc-ee5a-67212566af11"
      },
      "execution_count": 29,
      "outputs": [
        {
          "output_type": "stream",
          "name": "stdout",
          "text": [
            "Ingresa la temperatura en Celcius: 4\n",
            "El valor de Celcius 4.0 convertido a Farenheith es de: 39.2\n"
          ]
        }
      ]
    },
    {
      "cell_type": "code",
      "source": [
        "#Cuadrática\n",
        "\n",
        "a = int(input(\"Ingresa el valor de a: \"))\n",
        "b = int(input(\"Ingresa el valor de b: \"))\n",
        "c = int(input(\"Ingresa el valor de c: \"))\n",
        "\n",
        "rq = (b**2-(4*(a*c)))**(1/2)\n",
        "r1 = (-b+(rq))/2*a\n",
        "r2 = (-b-(rq))/2*a\n",
        "\n",
        "#r1 =(-b+((b**2-(4*(a*c)))**(1/2)))/2*a\n",
        "#r2 =(-b-((b**2-(4*(a*c)))**(1/2)))/2*a\n",
        "\n",
        "print(\"El valo rde la R1 es\",r1)\n",
        "print(\"El valo rde la R2 es\",r2)"
      ],
      "metadata": {
        "colab": {
          "base_uri": "https://localhost:8080/"
        },
        "id": "4gQ4CipW0miT",
        "outputId": "3b2765c1-e4f0-4b32-c86a-a043d6efbfa5"
      },
      "execution_count": 34,
      "outputs": [
        {
          "output_type": "stream",
          "name": "stdout",
          "text": [
            "Ingresa el valor de a: 1\n",
            "Ingresa el valor de b: 2\n",
            "Ingresa el valor de c: -15\n",
            "El valo rde la R1 es 3.0\n",
            "El valo rde la R2 es -5.0\n"
          ]
        }
      ]
    }
  ]
}