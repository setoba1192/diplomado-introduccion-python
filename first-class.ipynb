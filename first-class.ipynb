{
  "nbformat": 4,
  "nbformat_minor": 0,
  "metadata": {
    "colab": {
      "provenance": [],
      "collapsed_sections": [],
      "authorship_tag": "ABX9TyMh0OBCMv/guLQhmAIAjUKM",
      "include_colab_link": true
    },
    "kernelspec": {
      "name": "python3",
      "display_name": "Python 3"
    },
    "language_info": {
      "name": "python"
    }
  },
  "cells": [
    {
      "cell_type": "markdown",
      "metadata": {
        "id": "view-in-github",
        "colab_type": "text"
      },
      "source": [
        "<a href=\"https://colab.research.google.com/github/setoba1192/diplomado-introduccion-python/blob/main/first-class.ipynb\" target=\"_parent\"><img src=\"https://colab.research.google.com/assets/colab-badge.svg\" alt=\"Open In Colab\"/></a>"
      ]
    },
    {
      "cell_type": "code",
      "execution_count": null,
      "metadata": {
        "colab": {
          "base_uri": "https://localhost:8080/"
        },
        "id": "cNDF2nVpU7b2",
        "outputId": "837c61ae-51cb-47a4-f4af-c89efa30087e"
      },
      "outputs": [
        {
          "output_type": "stream",
          "name": "stdout",
          "text": [
            "el resultado de la operación es:  0.3678794423162496 variable2 es 1\n"
          ]
        }
      ],
      "source": [
        "#Clase 12-11-2022\n",
        "\n",
        "clase = (2.71828182**(1+2*(5-6)))\n",
        "var2 = 1\n",
        "print(\"el resultado de la operación es: \",clase, \"variable2 es\", var2)"
      ]
    },
    {
      "cell_type": "code",
      "source": [
        "div1 = 7/5\n",
        "div2 = 7//5\n",
        "oper = div1-div2\n",
        "print(div1,\"\\n\",div2,\"\\n\", oper)"
      ],
      "metadata": {
        "colab": {
          "base_uri": "https://localhost:8080/"
        },
        "id": "F8Is3Jj6ZZ8l",
        "outputId": "3bc6a47e-2e12-4b0e-ebbc-70d9183242e2"
      },
      "execution_count": null,
      "outputs": [
        {
          "output_type": "stream",
          "name": "stdout",
          "text": [
            "1.4 \n",
            " 1 \n",
            " 0.3999999999999999\n"
          ]
        }
      ]
    },
    {
      "cell_type": "code",
      "source": [
        "print(\"Hola mundo\",\"estoy aprendiendo python\")"
      ],
      "metadata": {
        "colab": {
          "base_uri": "https://localhost:8080/"
        },
        "id": "zZxHptKXgF3m",
        "outputId": "8c265ea7-2b81-4b53-cc05-bc46406b68ed"
      },
      "execution_count": null,
      "outputs": [
        {
          "output_type": "stream",
          "name": "stdout",
          "text": [
            "Hola mundo estoy aprendiendo python\n"
          ]
        }
      ]
    },
    {
      "cell_type": "code",
      "source": [
        "var = True\n",
        "\n",
        "print(not var)"
      ],
      "metadata": {
        "colab": {
          "base_uri": "https://localhost:8080/"
        },
        "id": "M7HXfuXgh7ur",
        "outputId": "da7e5199-dc5a-4e3d-852f-c4083bec4367"
      },
      "execution_count": 17,
      "outputs": [
        {
          "output_type": "stream",
          "name": "stdout",
          "text": [
            "False\n"
          ]
        }
      ]
    },
    {
      "cell_type": "code",
      "source": [
        "nota1 = float(input(\"Por favor ingresa la primera nota: \"))\n",
        "nota2 = float(input(\"Por favor ingresa la segunda nota: \"))\n",
        "nota3 = float(input(\"Por favor ingresa la tercera nota: \"))\n",
        "prom = ((nota1+nota2+nota3)/3)\n",
        "print(\"el valor del promedio es: \", prom)"
      ],
      "metadata": {
        "colab": {
          "base_uri": "https://localhost:8080/"
        },
        "id": "q03y8ePPjMwi",
        "outputId": "eb91eda1-468f-4e1a-a3ae-728b45a698f8"
      },
      "execution_count": 18,
      "outputs": [
        {
          "output_type": "stream",
          "name": "stdout",
          "text": [
            "Por favor ingresa la primera nota: 1\n",
            "Por favor ingresa la segunda nota: 5\n",
            "Por favor ingresa la tercera nota: 4\n",
            "el valor del promedio es:  3.3333333333333335\n"
          ]
        }
      ]
    }
  ]
}